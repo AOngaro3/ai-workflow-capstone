{
 "cells": [
  {
   "cell_type": "code",
   "execution_count": 6,
   "id": "distant-orlando",
   "metadata": {},
   "outputs": [
    {
     "ename": "ModuleNotFoundError",
     "evalue": "No module named 'request'",
     "output_type": "error",
     "traceback": [
      "\u001b[0;31m---------------------------------------------------------------------------\u001b[0m",
      "\u001b[0;31mModuleNotFoundError\u001b[0m                       Traceback (most recent call last)",
      "\u001b[0;32m<ipython-input-6-e392607f0c42>\u001b[0m in \u001b[0;36m<module>\u001b[0;34m\u001b[0m\n\u001b[0;32m----> 1\u001b[0;31m \u001b[0;32mimport\u001b[0m \u001b[0mrequest\u001b[0m\u001b[0;34m\u001b[0m\u001b[0;34m\u001b[0m\u001b[0m\n\u001b[0m",
      "\u001b[0;31mModuleNotFoundError\u001b[0m: No module named 'request'"
     ]
    }
   ],
   "source": [
    "import request"
   ]
  },
  {
   "cell_type": "code",
   "execution_count": 14,
   "id": "abstract-strength",
   "metadata": {},
   "outputs": [],
   "source": [
    "AVAILABLE_COUNTRIES = ['United Kingdom', 'Portugal', 'Germany', 'EIRE', 'France',\n",
    "                       'Netherlands', 'Spain', 'Norway', 'Hong Kong', 'Singapore', None]\n"
   ]
  },
  {
   "cell_type": "code",
   "execution_count": 20,
   "id": "ideal-wales",
   "metadata": {},
   "outputs": [],
   "source": [
    "request_json = {\"query\": [{\"country\": None,\n",
    "                               \"test\": True}]}"
   ]
  },
  {
   "cell_type": "code",
   "execution_count": 3,
   "id": "black-fairy",
   "metadata": {},
   "outputs": [
    {
     "data": {
      "text/plain": [
       "{'country': None, 'test': True}"
      ]
     },
     "execution_count": 3,
     "metadata": {},
     "output_type": "execute_result"
    }
   ],
   "source": [
    "request_json[\"query\"][0]"
   ]
  },
  {
   "cell_type": "code",
   "execution_count": 7,
   "id": "powered-darkness",
   "metadata": {},
   "outputs": [],
   "source": [
    "if 'country' not in request_json['query'][0]:\n",
    "    print(\"ERROR API (train): missing 'country' field in query.\")\n",
    "    "
   ]
  },
  {
   "cell_type": "code",
   "execution_count": 8,
   "id": "bridal-following",
   "metadata": {},
   "outputs": [],
   "source": [
    "port = 8080\n",
    "host = \"http://0.0.0.0\""
   ]
  },
  {
   "cell_type": "code",
   "execution_count": 9,
   "id": "reduced-flight",
   "metadata": {},
   "outputs": [
    {
     "data": {
      "text/plain": [
       "<Response [200]>"
      ]
     },
     "execution_count": 9,
     "metadata": {},
     "output_type": "execute_result"
    }
   ],
   "source": [
    "requests.post(f'{host}:{port}/predict')"
   ]
  },
  {
   "cell_type": "code",
   "execution_count": 19,
   "id": "average-islam",
   "metadata": {},
   "outputs": [
    {
     "data": {
      "text/plain": [
       "<Response [500]>"
      ]
     },
     "execution_count": 19,
     "metadata": {},
     "output_type": "execute_result"
    }
   ],
   "source": [
    "AVAILABLE_COUNTRIES = ['United Kingdom', 'Portugal', 'Germany', 'EIRE', 'France',\n",
    "                       'Netherlands', 'Spain', 'Norway', 'Hong Kong', 'Singapore', None]\n",
    "\n",
    "requests.post(f'{host}:{port}/train', json=request_json)"
   ]
  },
  {
   "cell_type": "code",
   "execution_count": 32,
   "id": "stuck-forestry",
   "metadata": {},
   "outputs": [
    {
     "data": {
      "text/plain": [
       "<Response [200]>"
      ]
     },
     "execution_count": 32,
     "metadata": {},
     "output_type": "execute_result"
    }
   ],
   "source": [
    "request_json = {\"query\": [{\"country\": None,\n",
    "                               \"starting_dates\": [\"2017-12-06\", \"2018-01-29\"]}]}\n",
    "\n",
    "requests.post(f'{host}:{port}/predict', json=request_json)"
   ]
  },
  {
   "cell_type": "code",
   "execution_count": null,
   "id": "reserved-wagon",
   "metadata": {},
   "outputs": [],
   "source": []
  }
 ],
 "metadata": {
  "kernelspec": {
   "display_name": "Python 3",
   "language": "python",
   "name": "python3"
  },
  "language_info": {
   "codemirror_mode": {
    "name": "ipython",
    "version": 3
   },
   "file_extension": ".py",
   "mimetype": "text/x-python",
   "name": "python",
   "nbconvert_exporter": "python",
   "pygments_lexer": "ipython3",
   "version": "3.8.1"
  }
 },
 "nbformat": 4,
 "nbformat_minor": 5
}
